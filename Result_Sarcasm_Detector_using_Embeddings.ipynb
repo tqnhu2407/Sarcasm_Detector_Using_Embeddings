{
  "nbformat": 4,
  "nbformat_minor": 0,
  "metadata": {
    "colab": {
      "name": "Result - Sarcasm Detector using Embeddings.ipynb",
      "provenance": [],
      "collapsed_sections": [],
      "toc_visible": true,
      "mount_file_id": "1L_5XD6f_DmmZD9U1EgZZFJyYfBDJ1rog",
      "authorship_tag": "ABX9TyPV26SP6goFrs+lKypTNXkl",
      "include_colab_link": true
    },
    "kernelspec": {
      "name": "python3",
      "display_name": "Python 3"
    },
    "language_info": {
      "name": "python"
    }
  },
  "cells": [
    {
      "cell_type": "markdown",
      "metadata": {
        "id": "view-in-github",
        "colab_type": "text"
      },
      "source": [
        "<a href=\"https://colab.research.google.com/github/tqnhu2407/sarcasm_detector_using_embeddings/blob/main/Result_Sarcasm_Detector_using_Embeddings.ipynb\" target=\"_parent\"><img src=\"https://colab.research.google.com/assets/colab-badge.svg\" alt=\"Open In Colab\"/></a>"
      ]
    },
    {
      "cell_type": "markdown",
      "metadata": {
        "id": "2bEsADGtFHTv"
      },
      "source": [
        "# Importing libraries"
      ]
    },
    {
      "cell_type": "code",
      "metadata": {
        "id": "9gLQ_rE5FBOE"
      },
      "source": [
        "import tensorflow as tf\n",
        "from tensorflow import keras\n",
        "from tensorflow.keras.preprocessing.text import Tokenizer\n",
        "from bs4 import BeautifulSoup\n",
        "import string\n",
        "from tensorflow.keras.preprocessing.sequence import pad_sequences\n",
        "import json\n",
        "import numpy as np\n",
        "import matplotlib.pyplot as plt"
      ],
      "execution_count": null,
      "outputs": []
    },
    {
      "cell_type": "markdown",
      "metadata": {
        "id": "t7eF0nDIFO94"
      },
      "source": [
        "# Reading JSON input file and Tokenizing"
      ]
    },
    {
      "cell_type": "code",
      "metadata": {
        "id": "LFd_ANe7FMYo"
      },
      "source": [
        "stopwords = ['i', 'me', 'my', 'myself', 'we', 'our', 'ours', 'ourselves', 'you', 'your', 'yours', 'yourself', 'yourselves', 'he', 'him', 'his', 'himself', 'she', 'her', 'hers', 'herself', 'it', 'its', 'itself', 'they', 'them', 'their', 'theirs', 'themselves', 'what', 'which', 'who', 'whom', 'this', 'that', 'these', 'those', 'am', 'is', 'are', 'was', 'were', 'be', 'been', 'being', 'have', 'has', 'had', 'having', 'do', 'does', 'did', 'doing', 'a', 'an', 'the', 'and', 'but', 'if', 'or', 'because', 'as', 'until', 'while', 'of', 'at', 'by', 'for', 'with', 'about', 'against', 'between', 'into', 'through', 'during', 'before', 'after', 'above', 'below', 'to', 'from', 'up', 'down', 'in', 'out', 'on', 'off', 'over', 'under', 'again', 'further', 'then', 'once', 'here', 'there', 'when', 'where', 'why', 'how', 'all', 'any', 'both', 'each', 'few', 'more', 'most', 'other', 'some', 'such', 'nor', 'only', 'own', 'same', 'so', 'than', 'too', 'very', 's', 't', 'can', 'will', 'just', 'don', 'should', 'now']"
      ],
      "execution_count": null,
      "outputs": []
    },
    {
      "cell_type": "code",
      "metadata": {
        "id": "dYuNTV9kFRZ1"
      },
      "source": [
        "def split_train_test(stopwords, training_size, vocab_size, max_len):\n",
        "\n",
        "    table = str.maketrans('', '', string.punctuation)\n",
        "    sentences = []\n",
        "    labels = []\n",
        "    urls = []\n",
        "\n",
        "\n",
        "    with open('Sarcasm_Headlines_Dataset.json', 'r') as f:\n",
        "        for line in f:\n",
        "            obj = json.loads(line)\n",
        "            sentence = obj['headline'].lower()\n",
        "            sentence = sentence.replace(\",\", \" , \")\n",
        "            sentence = sentence.replace(\".\", \" . \")\n",
        "            sentence = sentence.replace(\"-\", \" - \")\n",
        "            sentence = sentence.replace(\"/\", \" / \")\n",
        "            soup = BeautifulSoup(sentence)\n",
        "            sentence = soup.get_text() # remove HTML tags\n",
        "            words = sentence.split()\n",
        "            filtered_sentence = \"\"\n",
        "            for word in words:\n",
        "                word = word.translate(table) # remove punctuation\n",
        "                if word not in stopwords: # remove stop words\n",
        "                    filtered_sentence = filtered_sentence + word + \" \"\n",
        "            sentences.append(filtered_sentence)\n",
        "            urls.append(obj['article_link'])\n",
        "            labels.append(obj['is_sarcastic'])\n",
        "\n",
        "    training_sentences = sentences[0:training_size]\n",
        "    testing_sentences = sentences[training_size:]\n",
        "    training_labels = labels[0:training_size]\n",
        "    testing_labels = labels[training_size:]\n",
        "\n",
        "    tokenizer = Tokenizer(num_words=vocab_size, oov_token=\"<OOV>\")\n",
        "    tokenizer.fit_on_texts(training_sentences)\n",
        "\n",
        "    training_sequences = tokenizer.texts_to_sequences(training_sentences)\n",
        "    training_padded = pad_sequences(training_sequences, maxlen=max_len, padding='post', truncating='post')\n",
        "\n",
        "    tokenizer.fit_on_texts(testing_sentences)\n",
        "    testing_sequences = tokenizer.texts_to_sequences(testing_sentences)\n",
        "    testing_padded = pad_sequences(testing_sequences, maxlen=max_len, padding='post', truncating='post')\n",
        "\n",
        "    training_padded = np.array(training_padded)\n",
        "    training_labels = np.array(training_labels)\n",
        "    testing_padded = np.array(testing_padded)\n",
        "    testing_labels = np.array(testing_labels)\n",
        "\n",
        "    return training_padded, testing_padded, training_labels, testing_labels, tokenizer, sentences"
      ],
      "execution_count": null,
      "outputs": []
    },
    {
      "cell_type": "code",
      "metadata": {
        "id": "WOHqSuOoFXD4"
      },
      "source": [
        "training_size = 23000"
      ],
      "execution_count": null,
      "outputs": []
    },
    {
      "cell_type": "code",
      "metadata": {
        "id": "UVbmXKsDFZRK"
      },
      "source": [
        "vocab_size = 2000"
      ],
      "execution_count": null,
      "outputs": []
    },
    {
      "cell_type": "code",
      "metadata": {
        "id": "Kkv_5YCoFarE"
      },
      "source": [
        "max_len= 85"
      ],
      "execution_count": null,
      "outputs": []
    },
    {
      "cell_type": "code",
      "metadata": {
        "id": "VaxMpzRmFdp-"
      },
      "source": [
        "training_padded, testing_padded, training_labels, testing_labels, tokenizer, sentences = split_train_test(stopwords, training_size, vocab_size, max_len)"
      ],
      "execution_count": null,
      "outputs": []
    },
    {
      "cell_type": "markdown",
      "metadata": {
        "id": "BpMl_tSrF2I-"
      },
      "source": [
        "# Training model"
      ]
    },
    {
      "cell_type": "code",
      "metadata": {
        "id": "9pXCkQyuGO7y"
      },
      "source": [
        "def plot_accuracy(history):\n",
        "    plt.plot(history.history['accuracy'])\n",
        "    plt.plot(history.history['val_accuracy'])\n",
        "    plt.xlabel('epoch')\n",
        "    plt.ylabel('acccuracy')\n",
        "    plt.show()"
      ],
      "execution_count": null,
      "outputs": []
    },
    {
      "cell_type": "code",
      "metadata": {
        "id": "vpgUxd07GQG0"
      },
      "source": [
        "def plot_loss(history):\n",
        "    plt.plot(history.history['loss'])\n",
        "    plt.plot(history.history['val_loss'])\n",
        "    plt.xlabel('epoch')\n",
        "    plt.ylabel('loss')\n",
        "    plt.show()"
      ],
      "execution_count": null,
      "outputs": []
    },
    {
      "cell_type": "markdown",
      "metadata": {
        "id": "0SU4Q0hvGhmO"
      },
      "source": [
        "* Adjusting the learning rate\n",
        "* Reducing the vocab_size from 20,000 to 2,000\n",
        "* Reducing the embedding dimension to 7\n",
        "* Choosing the number of neurons in the dense layer to 8\n",
        "* Using regularization L2\n",
        "* Choosing the max_len of the sentences to be 85"
      ]
    },
    {
      "cell_type": "code",
      "metadata": {
        "id": "_u_4kBq3F6RE"
      },
      "source": [
        "model = tf.keras.Sequential([\n",
        "                        tf.keras.layers.Embedding(vocab_size, 7),\n",
        "                        tf.keras.layers.GlobalAveragePooling1D(),\n",
        "                        tf.keras.layers.Dense(8, activation='relu', kernel_regularizer = tf.keras.regularizers.l2(0.01)),\n",
        "                        tf.keras.layers.Dense(1, activation='sigmoid')\n",
        "])\n",
        "\n",
        "adam = tf.keras.optimizers.Adam(learning_rate=0.0001, beta_1=0.9, beta_2=0.999, amsgrad=False) # default = 0.001\n",
        "model.compile(loss='binary_crossentropy', optimizer=adam, metrics=['accuracy'])"
      ],
      "execution_count": null,
      "outputs": []
    },
    {
      "cell_type": "code",
      "metadata": {
        "id": "EfNcCwiUGEDn"
      },
      "source": [
        "history = model.fit(training_padded, training_labels, validation_split=0.33, epochs=100)"
      ],
      "execution_count": null,
      "outputs": []
    },
    {
      "cell_type": "code",
      "metadata": {
        "colab": {
          "base_uri": "https://localhost:8080/"
        },
        "id": "HiPe_FAFFf2E",
        "outputId": "16dbb229-5b1c-4283-a7e8-bc321ab75dc8"
      },
      "source": [
        "model.summary()"
      ],
      "execution_count": null,
      "outputs": [
        {
          "output_type": "stream",
          "text": [
            "Model: \"sequential\"\n",
            "_________________________________________________________________\n",
            "Layer (type)                 Output Shape              Param #   \n",
            "=================================================================\n",
            "embedding (Embedding)        (None, None, 7)           14000     \n",
            "_________________________________________________________________\n",
            "global_average_pooling1d (Gl (None, 7)                 0         \n",
            "_________________________________________________________________\n",
            "dense (Dense)                (None, 8)                 64        \n",
            "_________________________________________________________________\n",
            "dense_1 (Dense)              (None, 1)                 9         \n",
            "=================================================================\n",
            "Total params: 14,073\n",
            "Trainable params: 14,073\n",
            "Non-trainable params: 0\n",
            "_________________________________________________________________\n"
          ],
          "name": "stdout"
        }
      ]
    },
    {
      "cell_type": "code",
      "metadata": {
        "colab": {
          "base_uri": "https://localhost:8080/",
          "height": 280
        },
        "id": "DgbdLA21GG-u",
        "outputId": "14609666-8ef7-4b01-99ee-c9fc4c09d2ad"
      },
      "source": [
        "plot_accuracy(history)"
      ],
      "execution_count": null,
      "outputs": [
        {
          "output_type": "display_data",
          "data": {
            "image/png": "[encoded data removed]",
            "text/plain": [
              "<Figure size 432x288 with 1 Axes>"
            ]
          },
          "metadata": {
            "tags": [],
            "needs_background": "light"
          }
        }
      ]
    },
    {
      "cell_type": "code",
      "metadata": {
        "colab": {
          "base_uri": "https://localhost:8080/",
          "height": 279
        },
        "id": "iqFfyGKTGH3m",
        "outputId": "4750e299-321b-4d0d-963d-2ead415f17a0"
      },
      "source": [
        "plot_loss(history)"
      ],
      "execution_count": null,
      "outputs": [
        {
          "output_type": "display_data",
          "data": {
            "image/png": "[encoded data removed]",
            "text/plain": [
              "<Figure size 432x288 with 1 Axes>"
            ]
          },
          "metadata": {
            "tags": [],
            "needs_background": "light"
          }
        }
      ]
    },
    {
      "cell_type": "markdown",
      "metadata": {
        "id": "zPCXekZoJmld"
      },
      "source": [
        "# Using the Model to Classify a Sentence"
      ]
    },
    {
      "cell_type": "code",
      "metadata": {
        "id": "BE0BUiVIGRe-"
      },
      "source": [
        "sentences = [\"granny starting to fear spiders in the garden might be real\",\n",
        "            \"game of thrones season finale showing this sunday night\",\n",
        "            \"TensorFlow book will be a best seller\"]"
      ],
      "execution_count": null,
      "outputs": []
    },
    {
      "cell_type": "code",
      "metadata": {
        "id": "ppkIBU-MKIre"
      },
      "source": [
        "sequences = tokenizer.texts_to_sequences(sentences)"
      ],
      "execution_count": null,
      "outputs": []
    },
    {
      "cell_type": "code",
      "metadata": {
        "colab": {
          "base_uri": "https://localhost:8080/"
        },
        "id": "JgHGkez0KVY9",
        "outputId": "b82e3bea-dfb0-4c63-f706-c6deb7e08d80"
      },
      "source": [
        "print(sequences)"
      ],
      "execution_count": null,
      "outputs": [
        {
          "output_type": "stream",
          "text": [
            "[[1, 760, 1, 738, 1, 1, 1, 1, 293, 1, 96], [124, 1, 1335, 167, 1, 1, 1, 1519, 150], [1, 223, 1, 1, 1, 44, 1]]\n"
          ],
          "name": "stdout"
        }
      ]
    },
    {
      "cell_type": "code",
      "metadata": {
        "id": "mGgGs7ShKW6c"
      },
      "source": [
        "padded = pad_sequences(sequences, maxlen=max_len, padding='post', truncating='post')"
      ],
      "execution_count": null,
      "outputs": []
    },
    {
      "cell_type": "code",
      "metadata": {
        "colab": {
          "base_uri": "https://localhost:8080/"
        },
        "id": "pEr8qJypKq2v",
        "outputId": "988d6d14-1b72-4476-bc21-2229b0609393"
      },
      "source": [
        "print(padded)"
      ],
      "execution_count": null,
      "outputs": [
        {
          "output_type": "stream",
          "text": [
            "[[   1  760    1  738    1    1    1    1  293    1   96    0    0    0\n",
            "     0    0    0    0    0    0    0    0    0    0    0    0    0    0\n",
            "     0    0    0    0    0    0    0    0    0    0    0    0    0    0\n",
            "     0    0    0    0    0    0    0    0    0    0    0    0    0    0\n",
            "     0    0    0    0    0    0    0    0    0    0    0    0    0    0\n",
            "     0    0    0    0    0    0    0    0    0    0    0    0    0    0\n",
            "     0]\n",
            " [ 124    1 1335  167    1    1    1 1519  150    0    0    0    0    0\n",
            "     0    0    0    0    0    0    0    0    0    0    0    0    0    0\n",
            "     0    0    0    0    0    0    0    0    0    0    0    0    0    0\n",
            "     0    0    0    0    0    0    0    0    0    0    0    0    0    0\n",
            "     0    0    0    0    0    0    0    0    0    0    0    0    0    0\n",
            "     0    0    0    0    0    0    0    0    0    0    0    0    0    0\n",
            "     0]\n",
            " [   1  223    1    1    1   44    1    0    0    0    0    0    0    0\n",
            "     0    0    0    0    0    0    0    0    0    0    0    0    0    0\n",
            "     0    0    0    0    0    0    0    0    0    0    0    0    0    0\n",
            "     0    0    0    0    0    0    0    0    0    0    0    0    0    0\n",
            "     0    0    0    0    0    0    0    0    0    0    0    0    0    0\n",
            "     0    0    0    0    0    0    0    0    0    0    0    0    0    0\n",
            "     0]]\n"
          ],
          "name": "stdout"
        }
      ]
    },
    {
      "cell_type": "code",
      "metadata": {
        "colab": {
          "base_uri": "https://localhost:8080/"
        },
        "id": "TIlyhGf2Kr-d",
        "outputId": "e9e4b1fa-20e7-4f1d-a6aa-790f5920806a"
      },
      "source": [
        "print(model.predict(padded))"
      ],
      "execution_count": null,
      "outputs": [
        {
          "output_type": "stream",
          "text": [
            "[[0.66325116]\n",
            " [0.3883087 ]\n",
            " [0.32005945]]\n"
          ],
          "name": "stdout"
        }
      ]
    },
    {
      "cell_type": "markdown",
      "metadata": {
        "id": "yxlKbbJsLgui"
      },
      "source": [
        "# Saving model"
      ]
    },
    {
      "cell_type": "code",
      "metadata": {
        "id": "DdKufZ0uK_vM"
      },
      "source": [
        "model.save('drive/MyDrive/Colab Notebooks/Side-project/my_model.h5')"
      ],
      "execution_count": null,
      "outputs": []
    }
  ]
}